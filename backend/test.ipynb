{
 "cells": [
  {
   "cell_type": "code",
   "execution_count": 4,
   "metadata": {},
   "outputs": [
    {
     "name": "stdout",
     "output_type": "stream",
     "text": [
      "response:\n",
      "GenerateContentResponse(\n",
      "    done=True,\n",
      "    iterator=None,\n",
      "    result=protos.GenerateContentResponse({\n",
      "      \"candidates\": [\n",
      "        {\n",
      "          \"content\": {\n",
      "            \"parts\": [\n",
      "              {\n",
      "                \"text\": \"AI, or Artificial Intelligence, doesn't work in a single, unified way.  Instead, it encompasses a broad range of techniques and approaches, all aiming to mimic aspects of human intelligence.  Here's a breakdown of some core concepts:\\n\\n**1. Data is King:**  AI systems learn from data.  The more relevant and high-quality data you feed an AI, the better it will perform. This data can be anything from images and text to sensor readings and financial transactions.\\n\\n**2. Algorithms are the Recipe:** Algorithms are the sets of instructions that tell the AI how to process and learn from the data.  Different algorithms are suited to different tasks. Some common types include:\\n\\n* **Machine Learning (ML):**  This is a subset of AI where the system learns from data without being explicitly programmed.  Instead of following hard-coded rules, it identifies patterns and relationships in the data to make predictions or decisions.  Different types of ML include:\\n    * **Supervised Learning:** The algorithm is trained on a labeled dataset (e.g., images of cats labeled \\\"cat\\\" and images of dogs labeled \\\"dog\\\").  It learns to map inputs to outputs.\\n    * **Unsupervised Learning:** The algorithm is trained on an unlabeled dataset and tries to find inherent structure or patterns in the data (e.g., clustering similar customers based on their purchasing history).\\n    * **Reinforcement Learning:** The algorithm learns through trial and error by interacting with an environment and receiving rewards or penalties for its actions (e.g., training a robot to walk by rewarding it for stable steps and penalizing it for falls).\\n\\n* **Deep Learning (DL):**  This is a subfield of ML that uses artificial neural networks with multiple layers (hence \\\"deep\\\").  These networks can learn complex patterns from large amounts of data, achieving state-of-the-art results in areas like image recognition and natural language processing.\\n\\n**3. Neural Networks: The Brain-Inspired Approach:**  Neural networks are inspired by the structure and function of the human brain.  They consist of interconnected nodes (neurons) organized in layers.  Information flows through these layers, and the connections between neurons are adjusted during the learning process to optimize performance.\\n\\n**4. Training and Evaluation:**  Training an AI involves feeding it large amounts of data and letting it adjust its internal parameters (e.g., the weights of connections in a neural network) to minimize errors.  Evaluation involves testing the trained AI on a separate dataset to assess its performance and identify areas for improvement.\\n\\n**5.  Specific AI Techniques:** Beyond the core concepts above, AI uses many specialized techniques depending on the application:\\n\\n* **Natural Language Processing (NLP):** Enables computers to understand, interpret, and generate human language.\\n* **Computer Vision:** Allows computers to \\\"see\\\" and interpret images and videos.\\n* **Robotics:** Combines AI with physical robots to enable them to perform tasks in the real world.\\n* **Expert Systems:**  Mimic the decision-making ability of a human expert in a specific domain.\\n\\n**In short:** AI uses algorithms to analyze data and learn patterns, often employing techniques inspired by the human brain.  The specific approach depends heavily on the task at hand, but the core principles remain consistent:  learning from data to make intelligent decisions or predictions.  It's a continuously evolving field with new techniques and applications emerging constantly.\\n\"\n",
      "              }\n",
      "            ],\n",
      "            \"role\": \"model\"\n",
      "          },\n",
      "          \"finish_reason\": \"STOP\",\n",
      "          \"citation_metadata\": {\n",
      "            \"citation_sources\": [\n",
      "              {\n",
      "                \"start_index\": 1368,\n",
      "                \"end_index\": 1491,\n",
      "                \"uri\": \"https://github.com/NimmyBibin/ML-Assignments\"\n",
      "              },\n",
      "              {\n",
      "                \"start_index\": 1989,\n",
      "                \"end_index\": 2113,\n",
      "                \"uri\": \"https://www.analyticssteps.com/blogs/different-types-classifiers-machine-learning\"\n",
      "              }\n",
      "            ]\n",
      "          },\n",
      "          \"avg_logprobs\": -0.20213719757509904\n",
      "        }\n",
      "      ],\n",
      "      \"usage_metadata\": {\n",
      "        \"prompt_token_count\": 4,\n",
      "        \"candidates_token_count\": 710,\n",
      "        \"total_token_count\": 714\n",
      "      },\n",
      "      \"model_version\": \"gemini-1.5-flash\"\n",
      "    }),\n",
      ")\n"
     ]
    }
   ],
   "source": [
    "import google.generativeai as genai\n",
    "from dotenv import load_dotenv\n",
    "import google.generativeai as palm\n",
    "import os\n",
    "\n",
    "load_dotenv(\"/Users/vedangbhardwaj/Desktop/work_mode/insurance_cancellation_project/insurance_cancellations/.env\",override=True)\n",
    "\n",
    "genai.configure(api_key=\"PALM_API_KEY\")\n",
    "model = genai.GenerativeModel(\"gemini-1.5-flash\")\n",
    "response = model.generate_content(\"Explain how AI works\")\n",
    "print(response)\n"
   ]
  },
  {
   "cell_type": "code",
   "execution_count": 15,
   "metadata": {},
   "outputs": [
    {
     "data": {
      "text/plain": [
       "text: \"AI, or Artificial Intelligence, doesn\\'t work in a single, unified way.  Instead, it encompasses a broad range of techniques and approaches, all aiming to mimic aspects of human intelligence.  Here\\'s a breakdown of some core concepts:\\n\\n**1. Data is King:**  AI systems learn from data.  The more relevant and high-quality data you feed an AI, the better it will perform. This data can be anything from images and text to sensor readings and financial transactions.\\n\\n**2. Algorithms are the Recipe:** Algorithms are the sets of instructions that tell the AI how to process and learn from the data.  Different algorithms are suited to different tasks. Some common types include:\\n\\n* **Machine Learning (ML):**  This is a subset of AI where the system learns from data without being explicitly programmed.  Instead of following hard-coded rules, it identifies patterns and relationships in the data to make predictions or decisions.  Different types of ML include:\\n    * **Supervised Learning:** The algorithm is trained on a labeled dataset (e.g., images of cats labeled \\\"cat\\\" and images of dogs labeled \\\"dog\\\").  It learns to map inputs to outputs.\\n    * **Unsupervised Learning:** The algorithm is trained on an unlabeled dataset and tries to find inherent structure or patterns in the data (e.g., clustering similar customers based on their purchasing history).\\n    * **Reinforcement Learning:** The algorithm learns through trial and error by interacting with an environment and receiving rewards or penalties for its actions (e.g., training a robot to walk by rewarding it for stable steps and penalizing it for falls).\\n\\n* **Deep Learning (DL):**  This is a subfield of ML that uses artificial neural networks with multiple layers (hence \\\"deep\\\").  These networks can learn complex patterns from large amounts of data, achieving state-of-the-art results in areas like image recognition and natural language processing.\\n\\n**3. Neural Networks: The Brain-Inspired Approach:**  Neural networks are inspired by the structure and function of the human brain.  They consist of interconnected nodes (neurons) organized in layers.  Information flows through these layers, and the connections between neurons are adjusted during the learning process to optimize performance.\\n\\n**4. Training and Evaluation:**  Training an AI involves feeding it large amounts of data and letting it adjust its internal parameters (e.g., the weights of connections in a neural network) to minimize errors.  Evaluation involves testing the trained AI on a separate dataset to assess its performance and identify areas for improvement.\\n\\n**5.  Specific AI Techniques:** Beyond the core concepts above, AI uses many specialized techniques depending on the application:\\n\\n* **Natural Language Processing (NLP):** Enables computers to understand, interpret, and generate human language.\\n* **Computer Vision:** Allows computers to \\\"see\\\" and interpret images and videos.\\n* **Robotics:** Combines AI with physical robots to enable them to perform tasks in the real world.\\n* **Expert Systems:**  Mimic the decision-making ability of a human expert in a specific domain.\\n\\n**In short:** AI uses algorithms to analyze data and learn patterns, often employing techniques inspired by the human brain.  The specific approach depends heavily on the task at hand, but the core principles remain consistent:  learning from data to make intelligent decisions or predictions.  It\\'s a continuously evolving field with new techniques and applications emerging constantly.\\n\""
      ]
     },
     "execution_count": 15,
     "metadata": {},
     "output_type": "execute_result"
    }
   ],
   "source": [
    "response.candidates[0].content.parts[0]\n"
   ]
  },
  {
   "cell_type": "code",
   "execution_count": 8,
   "metadata": {},
   "outputs": [
    {
     "name": "stdout",
     "output_type": "stream",
     "text": [
      "\n",
      "\n"
     ]
    }
   ],
   "source": [
    "def extract_response_text(response):\n",
    "    \"\"\"Extracts and concatenates all text parts from a GenerateContentResponse.\"\"\"\n",
    "    text = \"\"\n",
    "    \n",
    "    if hasattr(response, 'result'):\n",
    "        for candidate in response.result.candidates:\n",
    "            if 'content' in candidate:\n",
    "                for part in candidate['content']['parts']:\n",
    "                    if 'text' in part:\n",
    "                        text += part['text']\n",
    "    print(text)\n",
    "    return text\n",
    "\n",
    "# Usage example:\n",
    "# Assuming 'response' is your GenerateContentResponse object\n",
    "result_text = extract_response_text(response)\n",
    "print(result_text)\n"
   ]
  },
  {
   "cell_type": "code",
   "execution_count": null,
   "metadata": {},
   "outputs": [],
   "source": []
  }
 ],
 "metadata": {
  "kernelspec": {
   "display_name": "insuance_cancelation_env",
   "language": "python",
   "name": "python3"
  },
  "language_info": {
   "codemirror_mode": {
    "name": "ipython",
    "version": 3
   },
   "file_extension": ".py",
   "mimetype": "text/x-python",
   "name": "python",
   "nbconvert_exporter": "python",
   "pygments_lexer": "ipython3",
   "version": "3.11.5"
  }
 },
 "nbformat": 4,
 "nbformat_minor": 2
}
